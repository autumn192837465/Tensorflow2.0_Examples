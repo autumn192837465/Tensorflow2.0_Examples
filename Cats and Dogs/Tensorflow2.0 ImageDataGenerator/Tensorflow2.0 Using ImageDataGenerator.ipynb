{
 "cells": [
  {
   "cell_type": "code",
   "execution_count": 1,
   "metadata": {},
   "outputs": [],
   "source": [
    "import tensorflow as tf\n",
    "import os\n",
    "import matplotlib.pyplot as plt\n",
    "import pandas as pd\n",
    "import numpy as np\n",
    "import gc\n",
    "\n",
    "from tensorflow.keras import optimizers\n",
    "from tensorflow.keras import layers,Model\n",
    "from tensorflow.keras.applications.inception_v3 import InceptionV3\n",
    "from tensorflow.keras.preprocessing.image import ImageDataGenerator,load_img"
   ]
  },
  {
   "cell_type": "code",
   "execution_count": 2,
   "metadata": {},
   "outputs": [],
   "source": [
    "# variables\n",
    "batch_size = 100\n",
    "img_height = 150\n",
    "img_width = 150\n",
    "epoch = 100"
   ]
  },
  {
   "cell_type": "code",
   "execution_count": 3,
   "metadata": {},
   "outputs": [
    {
     "name": "stdout",
     "output_type": "stream",
     "text": [
      "Found 2000 images belonging to 2 classes.\n",
      "Found 1000 images belonging to 2 classes.\n"
     ]
    }
   ],
   "source": [
    "train_datagen = ImageDataGenerator(\n",
    "    rescale=1./255,\n",
    "    rotation_range = 40,\n",
    "    width_shift_range = 0.2,\n",
    "    height_shift_range = 0.2,\n",
    "    shear_range = 0.2,\n",
    "    zoom_range = 0.2,\n",
    "    horizontal_flip = True,\n",
    ")\n",
    "test_datagen = ImageDataGenerator(\n",
    "    rescale=1./255,\n",
    "    rotation_range = 40,\n",
    "    width_shift_range = 0.2,\n",
    "    height_shift_range = 0.2,\n",
    "    shear_range = 0.2,\n",
    "    zoom_range = 0.2,\n",
    "    horizontal_flip = True,\n",
    ")\n",
    "\n",
    "train_generator = train_datagen.flow_from_directory(\n",
    "    './cats_and_dogs_filtered/train',\n",
    "    target_size = (img_height,img_width),\n",
    "    shuffle=False,\n",
    "    batch_size = batch_size,\n",
    "    class_mode = 'binary'\n",
    ")\n",
    "\n",
    "test_generator = test_datagen.flow_from_directory(\n",
    "    './cats_and_dogs_filtered/validation',\n",
    "    target_size = (img_height,img_width),\n",
    "    shuffle=False,\n",
    "    batch_size = batch_size,\n",
    "    class_mode = 'binary'\n",
    ")\n",
    "\n"
   ]
  },
  {
   "cell_type": "code",
   "execution_count": 4,
   "metadata": {},
   "outputs": [],
   "source": [
    "# Check point\n",
    "cp_callback = tf.keras.callbacks.ModelCheckpoint(filepath = \"./checkpoint\" , \n",
    "                                                 save_weights_only = True,\n",
    "                                                 peroid=1,  # save the model every 1 epoch\n",
    "                                                 verbose = 1)"
   ]
  },
  {
   "cell_type": "code",
   "execution_count": 5,
   "metadata": {},
   "outputs": [],
   "source": [
    "pre_trained_model = InceptionV3(input_shape = (img_height,img_width,3),include_top = False)\n",
    "for layer in pre_trained_model.layers:\n",
    "    layer.trainable = False\n",
    "last_layer = pre_trained_model.get_layer('mixed7')\n",
    "last_output = last_layer.output\n",
    "x = layers.Flatten()(last_output)\n",
    "x = layers.Dense(1024,activation='relu')(x)\n",
    "x = layers.Dense(1,activation='sigmoid')(x)\n",
    "model = Model(pre_trained_model.input,x)\n",
    "model.compile(optimizer = tf.keras.optimizers.RMSprop(lr=0.0001), \n",
    "              loss = 'binary_crossentropy', \n",
    "              metrics = ['acc'])"
   ]
  },
  {
   "cell_type": "code",
   "execution_count": null,
   "metadata": {},
   "outputs": [
    {
     "name": "stdout",
     "output_type": "stream",
     "text": [
      "Epoch 1/100\n",
      "19/20 [===========================>..] - ETA: 21s - loss: 1.4709 - acc: 0.3226\n",
      "Epoch 00001: saving model to ./checkpoint\n",
      "20/20 [==============================] - 490s 25s/step - loss: 1.4370 - acc: 0.3100 - val_loss: 0.6114 - val_acc: 0.7050\n",
      "Epoch 2/100\n",
      "19/20 [===========================>..] - ETA: 22s - loss: 0.7802 - acc: 0.5753\n",
      "Epoch 00002: saving model to ./checkpoint\n",
      "20/20 [==============================] - 510s 26s/step - loss: 0.7733 - acc: 0.5855 - val_loss: 0.5261 - val_acc: 0.7810\n",
      "Epoch 3/100\n",
      "19/20 [===========================>..] - ETA: 24s - loss: 0.7278 - acc: 0.6747\n",
      "Epoch 00003: saving model to ./checkpoint\n",
      "20/20 [==============================] - 565s 28s/step - loss: 0.6937 - acc: 0.6910 - val_loss: 2.8177 - val_acc: 0.5000\n",
      "Epoch 4/100\n",
      "19/20 [===========================>..] - ETA: 25s - loss: 0.8729 - acc: 0.5068\n",
      "Epoch 00004: saving model to ./checkpoint\n",
      "20/20 [==============================] - 575s 29s/step - loss: 0.8506 - acc: 0.5310 - val_loss: 0.8718 - val_acc: 0.5690\n",
      "Epoch 5/100\n",
      "19/20 [===========================>..] - ETA: 21s - loss: 0.7623 - acc: 0.6084\n",
      "Epoch 00005: saving model to ./checkpoint\n",
      "20/20 [==============================] - 504s 25s/step - loss: 0.7524 - acc: 0.6200 - val_loss: 0.3479 - val_acc: 0.8550\n",
      "Epoch 6/100\n",
      "19/20 [===========================>..] - ETA: 22s - loss: 0.7643 - acc: 0.6405\n",
      "Epoch 00006: saving model to ./checkpoint\n",
      "20/20 [==============================] - 526s 26s/step - loss: 0.7470 - acc: 0.6535 - val_loss: 0.8224 - val_acc: 0.6260\n",
      "Epoch 7/100\n",
      "19/20 [===========================>..] - ETA: 21s - loss: 0.7037 - acc: 0.6158\n",
      "Epoch 00007: saving model to ./checkpoint\n",
      "20/20 [==============================] - 487s 24s/step - loss: 0.6962 - acc: 0.6275 - val_loss: 0.2848 - val_acc: 0.8800\n",
      "Epoch 8/100\n",
      "19/20 [===========================>..] - ETA: 22s - loss: 0.6680 - acc: 0.6147\n",
      "Epoch 00008: saving model to ./checkpoint\n",
      "20/20 [==============================] - 504s 25s/step - loss: 0.6674 - acc: 0.6165 - val_loss: 0.2991 - val_acc: 0.8700\n",
      "Epoch 9/100\n",
      "19/20 [===========================>..] - ETA: 21s - loss: 0.6225 - acc: 0.6211\n",
      "Epoch 00009: saving model to ./checkpoint\n",
      "20/20 [==============================] - 482s 24s/step - loss: 0.6161 - acc: 0.6360 - val_loss: 0.2771 - val_acc: 0.8750\n",
      "Epoch 10/100\n",
      "19/20 [===========================>..] - ETA: 19s - loss: 0.5405 - acc: 0.7447\n",
      "Epoch 00010: saving model to ./checkpoint\n",
      "20/20 [==============================] - 448s 22s/step - loss: 0.5142 - acc: 0.7575 - val_loss: 2.9893 - val_acc: 0.5590\n",
      "Epoch 11/100\n",
      "19/20 [===========================>..] - ETA: 19s - loss: 0.6746 - acc: 0.7316\n",
      "Epoch 00011: saving model to ./checkpoint\n",
      "20/20 [==============================] - 456s 23s/step - loss: 0.7019 - acc: 0.7015 - val_loss: 0.2581 - val_acc: 0.8860\n",
      "Epoch 12/100\n",
      "19/20 [===========================>..] - ETA: 19s - loss: 0.5477 - acc: 0.7379\n",
      "Epoch 00012: saving model to ./checkpoint\n",
      "20/20 [==============================] - 453s 23s/step - loss: 0.5387 - acc: 0.7425 - val_loss: 0.7738 - val_acc: 0.6980\n",
      "Epoch 13/100\n",
      "19/20 [===========================>..] - ETA: 19s - loss: 0.5675 - acc: 0.6995\n",
      "Epoch 00013: saving model to ./checkpoint\n",
      "20/20 [==============================] - 457s 23s/step - loss: 0.5475 - acc: 0.7140 - val_loss: 0.2884 - val_acc: 0.8730\n",
      "Epoch 14/100\n",
      "19/20 [===========================>..] - ETA: 19s - loss: 0.5866 - acc: 0.7047\n",
      "Epoch 00014: saving model to ./checkpoint\n",
      "20/20 [==============================] - 453s 23s/step - loss: 0.5709 - acc: 0.7190 - val_loss: 0.2251 - val_acc: 0.8900\n",
      "Epoch 15/100\n",
      "19/20 [===========================>..] - ETA: 19s - loss: 0.5262 - acc: 0.7242\n",
      "Epoch 00015: saving model to ./checkpoint\n",
      "20/20 [==============================] - 448s 22s/step - loss: 0.5387 - acc: 0.7140 - val_loss: 0.2703 - val_acc: 0.8910\n",
      "Epoch 16/100\n",
      "19/20 [===========================>..] - ETA: 19s - loss: 0.5145 - acc: 0.7395\n",
      "Epoch 00016: saving model to ./checkpoint\n",
      "20/20 [==============================] - 449s 22s/step - loss: 0.5103 - acc: 0.7465 - val_loss: 0.3148 - val_acc: 0.8650\n",
      "Epoch 17/100\n",
      "19/20 [===========================>..] - ETA: 19s - loss: 0.5132 - acc: 0.7642\n",
      "Epoch 00017: saving model to ./checkpoint\n",
      "20/20 [==============================] - 447s 22s/step - loss: 0.5175 - acc: 0.7630 - val_loss: 0.2827 - val_acc: 0.8700\n",
      "Epoch 18/100\n",
      "19/20 [===========================>..] - ETA: 19s - loss: 0.4220 - acc: 0.7926\n",
      "Epoch 00018: saving model to ./checkpoint\n",
      "20/20 [==============================] - 458s 23s/step - loss: 0.4477 - acc: 0.7725 - val_loss: 0.5634 - val_acc: 0.7930\n",
      "Epoch 19/100\n",
      "19/20 [===========================>..] - ETA: 19s - loss: 0.4598 - acc: 0.7716\n",
      "Epoch 00019: saving model to ./checkpoint\n",
      "20/20 [==============================] - 453s 23s/step - loss: 0.4412 - acc: 0.7820 - val_loss: 1.2909 - val_acc: 0.6890\n",
      "Epoch 20/100\n",
      "19/20 [===========================>..] - ETA: 22s - loss: 0.4809 - acc: 0.7500\n",
      "Epoch 00020: saving model to ./checkpoint\n",
      "20/20 [==============================] - 526s 26s/step - loss: 0.4751 - acc: 0.7585 - val_loss: 0.3036 - val_acc: 0.8660\n",
      "Epoch 21/100\n",
      "19/20 [===========================>..] - ETA: 25s - loss: 0.3995 - acc: 0.8142\n",
      "Epoch 00021: saving model to ./checkpoint\n",
      "20/20 [==============================] - 574s 29s/step - loss: 0.3880 - acc: 0.8230 - val_loss: 0.2852 - val_acc: 0.8890\n",
      "Epoch 22/100\n",
      "12/20 [=================>............] - ETA: 3:19 - loss: 0.3134 - acc: 0.8567"
     ]
    }
   ],
   "source": [
    "model.fit_generator(train_generator,                    \n",
    "                    epochs=100,\n",
    "                    validation_data = test_generator,\n",
    "                    callbacks=[cp_callback],\n",
    "                    verbose = 1\n",
    "                    )\n"
   ]
  },
  {
   "cell_type": "code",
   "execution_count": null,
   "metadata": {},
   "outputs": [],
   "source": []
  }
 ],
 "metadata": {
  "kernelspec": {
   "display_name": "Python 3",
   "language": "python",
   "name": "python3"
  },
  "language_info": {
   "codemirror_mode": {
    "name": "ipython",
    "version": 3
   },
   "file_extension": ".py",
   "mimetype": "text/x-python",
   "name": "python",
   "nbconvert_exporter": "python",
   "pygments_lexer": "ipython3",
   "version": "3.7.5"
  }
 },
 "nbformat": 4,
 "nbformat_minor": 2
}
