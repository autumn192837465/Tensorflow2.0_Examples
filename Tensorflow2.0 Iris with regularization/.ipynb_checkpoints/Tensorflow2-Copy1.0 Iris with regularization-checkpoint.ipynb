{
 "cells": [
  {
   "cell_type": "code",
   "execution_count": 5,
   "metadata": {},
   "outputs": [],
   "source": [
    "# Diffient optimizer"
   ]
  },
  {
   "cell_type": "code",
   "execution_count": 6,
   "metadata": {},
   "outputs": [],
   "source": [
    "import tensorflow as tf\n",
    "import os\n",
    "import matplotlib.pyplot as plt\n",
    "import pandas as pd\n",
    "import numpy as np\n",
    "from tensorflow.keras import optimizers\n",
    "\n"
   ]
  },
  {
   "cell_type": "code",
   "execution_count": 7,
   "metadata": {},
   "outputs": [],
   "source": [
    "# Get data\n",
    "Data = pd.read_csv('iris.csv',header = None)\n",
    "\n",
    "\n",
    "# Variables\n",
    "[m,n] = Data.shape\n",
    "fn = n - 1\n",
    "\n",
    "trainNum = int(m * 0.7)\n",
    "\n",
    "# Shuffle data\n",
    "Data = Data.sample(frac=1).reset_index(drop=True)\n",
    "# Seperate data into X y\n",
    "DataX = Data.iloc[:,0:fn]\n",
    "DataY = Data.iloc[:,fn]\n",
    "\n",
    "# Seperate data into train test\n",
    "trainX = DataX.iloc[0:trainNum,:].values\n",
    "trainY = DataY.iloc[0:trainNum].values\n",
    "testX = DataX.iloc[trainNum:,].values\n",
    "testY = DataY.iloc[trainNum:,].values\n",
    "\n"
   ]
  },
  {
   "cell_type": "code",
   "execution_count": null,
   "metadata": {},
   "outputs": [
    {
     "name": "stdout",
     "output_type": "stream",
     "text": [
      "l1 lambda 0 accuracy = 1.0\n"
     ]
    }
   ],
   "source": [
    "# Create model with different lambda l1\n",
    "plt.figure(figsize = (30,20))\n",
    "for i in [0,0.001, 0.01, 0.05, 0.1, 1, 10, 100, 1000, 10000]:\n",
    "    model = tf.keras.Sequential([\n",
    "        tf.keras.layers.Dense(units = 2000, \n",
    "                              activation = tf.nn.relu, \n",
    "                              input_shape=(4,), \n",
    "                              kernel_initializer = tf.initializers.RandomUniform(),\n",
    "                              kernel_regularizer = tf.keras.regularizers.l1(i)\n",
    "                             ),\n",
    "        tf.keras.layers.Dense(units = 2000, \n",
    "                              activation = tf.nn.relu,                               \n",
    "                              kernel_initializer = tf.initializers.RandomUniform(),\n",
    "                              kernel_regularizer = tf.keras.regularizers.l1(i)\n",
    "                             ),\n",
    "        tf.keras.layers.Dense(units = 2000, \n",
    "                              activation = tf.nn.relu,                               \n",
    "                              kernel_initializer = tf.initializers.RandomUniform(),\n",
    "                              kernel_regularizer = tf.keras.regularizers.l1(i)\n",
    "                             ),\n",
    "        tf.keras.layers.Dense(units = 2000, \n",
    "                              activation = tf.nn.relu,                               \n",
    "                              kernel_initializer = tf.initializers.RandomUniform(),\n",
    "                              kernel_regularizer = tf.keras.regularizers.l1(i)\n",
    "                             ),\n",
    "        tf.keras.layers.Dense(3,activation='softmax')\n",
    "    ])\n",
    "\n",
    "    model.compile(optimizer = \"adam\",\n",
    "                  loss='sparse_categorical_crossentropy',\n",
    "                  metrics=['acc'])\n",
    "\n",
    "    acc = model.fit(trainX, trainY, epochs=1000,verbose=0)\n",
    "    test_loss, test_acc = model.evaluate(testX,  testY, verbose=0)\n",
    "    print(\"l1 lambda {} accuracy = {}\".format(i,test_acc))\n",
    "    plt.plot(acc.history['acc'],label = 'l1 lambda = {}'.format(i))    \n",
    "plt.legend(fontsize = 20)"
   ]
  },
  {
   "cell_type": "code",
   "execution_count": null,
   "metadata": {},
   "outputs": [],
   "source": [
    "# Create model with different lambda l2\n",
    "plt.figure(figsize = (30,20))\n",
    "for i in [0,0.001, 0.01, 0.05, 0.1, 1, 10, 100, 1000, 10000]:\n",
    "    model = tf.keras.Sequential([\n",
    "        tf.keras.layers.Dense(units = 2000, \n",
    "                              activation = tf.nn.relu, \n",
    "                              input_shape=(4,), \n",
    "                              kernel_initializer = tf.initializers.RandomUniform(),\n",
    "                              kernel_regularizer = tf.keras.regularizers.l2(i)\n",
    "                             ),\n",
    "        tf.keras.layers.Dense(units = 2000, \n",
    "                              activation = tf.nn.relu,                               \n",
    "                              kernel_initializer = tf.initializers.RandomUniform(),\n",
    "                              kernel_regularizer = tf.keras.regularizers.l2(i)\n",
    "                             ),\n",
    "        tf.keras.layers.Dense(units = 2000, \n",
    "                              activation = tf.nn.relu,                               \n",
    "                              kernel_initializer = tf.initializers.RandomUniform(),\n",
    "                              kernel_regularizer = tf.keras.regularizers.l2(i)\n",
    "                             ),\n",
    "        tf.keras.layers.Dense(units = 2000, \n",
    "                              activation = tf.nn.relu,                               \n",
    "                              kernel_initializer = tf.initializers.RandomUniform(),\n",
    "                              kernel_regularizer = tf.keras.regularizers.l2(i)\n",
    "                             ),\n",
    "        tf.keras.layers.Dense(3,activation='softmax')\n",
    "    ])\n",
    "\n",
    "    model.compile(optimizer = \"adam\",\n",
    "                  loss='sparse_categorical_crossentropy',\n",
    "                  metrics=['acc'])\n",
    "\n",
    "    acc = model.fit(trainX, trainY, epochs=1000,verbose=0)\n",
    "    test_loss, test_acc = model.evaluate(testX,  testY, verbose=0)\n",
    "    print(\"l1 lambda {} accuracy = {}\".format(i,test_acc))\n",
    "    plt.plot(acc.history['acc'],label = 'l2 lambda = {}'.format(i))    \n",
    "plt.legend(fontsize = 20)"
   ]
  },
  {
   "cell_type": "code",
   "execution_count": null,
   "metadata": {},
   "outputs": [],
   "source": [
    "'''\n",
    "    l1 regularization\n",
    "        Lasso regression (Least Absolute Shrinkage and Selection Operator)\n",
    "            The sum of the absolute value of magnitude(w)\n",
    "            sum ( lambda  * Abs(w) )\n",
    "    \n",
    "    l2 regularization\n",
    "        Ridge regression\n",
    "            The sum of the squared magnitude(w)\n",
    "            sum ( lambda * w * w)\n",
    "\n",
    "'''"
   ]
  }
 ],
 "metadata": {
  "kernelspec": {
   "display_name": "Python 3",
   "language": "python",
   "name": "python3"
  },
  "language_info": {
   "codemirror_mode": {
    "name": "ipython",
    "version": 2
   },
   "file_extension": ".py",
   "mimetype": "text/x-python",
   "name": "python",
   "nbconvert_exporter": "python",
   "pygments_lexer": "ipython2",
   "version": "2.7.15+"
  }
 },
 "nbformat": 4,
 "nbformat_minor": 2
}
