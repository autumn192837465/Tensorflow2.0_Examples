{
 "cells": [
  {
   "cell_type": "code",
   "execution_count": 2,
   "metadata": {
    "scrolled": true
   },
   "outputs": [],
   "source": [
    "import tensorflow as tf\n",
    "import os\n",
    "import matplotlib.pyplot as plt\n",
    "import pandas as pd\n",
    "import numpy as np\n",
    "from tensorflow.keras import optimizers\n",
    "import gc"
   ]
  },
  {
   "cell_type": "code",
   "execution_count": 3,
   "metadata": {},
   "outputs": [],
   "source": [
    "# Get data\n",
    "Data = pd.read_csv('Vibration_data_rand_ver1.csv',header = None)"
   ]
  },
  {
   "cell_type": "code",
   "execution_count": 4,
   "metadata": {},
   "outputs": [
    {
     "data": {
      "text/plain": [
       "(16740, 27)"
      ]
     },
     "execution_count": 4,
     "metadata": {},
     "output_type": "execute_result"
    },
    {
     "data": {
      "text/plain": [
       "<matplotlib.figure.Figure at 0x7f20e12c68d0>"
      ]
     },
     "metadata": {},
     "output_type": "display_data"
    }
   ],
   "source": [
    "f = plt.figure()\n",
    "plt.plot(Data[0])\n"
   ]
  },
  {
   "cell_type": "code",
   "execution_count": 4,
   "metadata": {},
   "outputs": [],
   "source": [
    "trainX = trainX / 255.0\n",
    "testX  = testX / 255.0"
   ]
  },
  {
   "cell_type": "code",
   "execution_count": null,
   "metadata": {},
   "outputs": [
    {
     "name": "stdout",
     "output_type": "stream",
     "text": [
      "Train on 60000 samples\n",
      "Epoch 1/5000\n",
      "60000/60000 [==============================] - 6s 98us/sample - loss: 2.1429 - acc: 0.3650\n",
      "Epoch 2/5000\n",
      "60000/60000 [==============================] - 4s 66us/sample - loss: 1.3842 - acc: 0.7419\n",
      "Epoch 3/5000\n",
      "60000/60000 [==============================] - 4s 62us/sample - loss: 0.8062 - acc: 0.8220\n",
      "Epoch 4/5000\n",
      "60000/60000 [==============================] - 4s 64us/sample - loss: 0.5485 - acc: 0.8523\n",
      "Epoch 5/5000\n",
      "60000/60000 [==============================] - 4s 61us/sample - loss: 0.4296 - acc: 0.8796\n",
      "Epoch 6/5000\n",
      "60000/60000 [==============================] - 4s 66us/sample - loss: 0.3631 - acc: 0.8952\n",
      "Epoch 7/5000\n",
      "60000/60000 [==============================] - 4s 63us/sample - loss: 0.3228 - acc: 0.9068\n",
      "Epoch 8/5000\n",
      "30000/60000 [==============>...............] - ETA: 1s - loss: 0.3011 - acc: 0.9116"
     ]
    }
   ],
   "source": [
    "plt.figure(figsize = (30,20))\n",
    "for i in [0,0.0001,0.001,0.005]:\n",
    "    model = tf.keras.models.Sequential([\n",
    "        tf.keras.layers.Flatten(input_shape = (28,28)),\n",
    "        tf.keras.layers.Dense(500, activation = 'relu', kernel_regularizer = tf.keras.regularizers.l1(i)),\n",
    "        tf.keras.layers.Dense(500, activation = 'sigmoid',kernel_regularizer = tf.keras.regularizers.l1(i)),\n",
    "        tf.keras.layers.Dense(10, activation = 'softmax')\n",
    "    ])\n",
    "\n",
    "    model.compile(optimizer = 'adam', loss = 'sparse_categorical_crossentropy',metrics = ['acc'])\n",
    "    acc = model.fit(trainX,trainY,epochs = 400, verbose = 1,batch_size = 10000)\n",
    "    \n",
    "    test_loss, test_acc = model.evaluate(testX,testY,verbose = 2)\n",
    "    plt.plot(acc.history['acc'],label = 'lambda = {}'.format(i))\n",
    "    print(\"lambda {} , accuracy = {}\".format(i,test_acc))\n",
    "    # release momory\n",
    "    gc.collect()\n",
    "plt.legend(fontsize = 20)\n",
    "fig.savefig('Handwritten digit with regularization.png')"
   ]
  },
  {
   "cell_type": "code",
   "execution_count": null,
   "metadata": {},
   "outputs": [],
   "source": []
  },
  {
   "cell_type": "code",
   "execution_count": null,
   "metadata": {},
   "outputs": [],
   "source": []
  }
 ],
 "metadata": {
  "kernelspec": {
   "display_name": "Python 3",
   "language": "python",
   "name": "python3"
  },
  "language_info": {
   "codemirror_mode": {
    "name": "ipython",
    "version": 2
   },
   "file_extension": ".py",
   "mimetype": "text/x-python",
   "name": "python",
   "nbconvert_exporter": "python",
   "pygments_lexer": "ipython2",
   "version": "2.7.15+"
  }
 },
 "nbformat": 4,
 "nbformat_minor": 2
}
